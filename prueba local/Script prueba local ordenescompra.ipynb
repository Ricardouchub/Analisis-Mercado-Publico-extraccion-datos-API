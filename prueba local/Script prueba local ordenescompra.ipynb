{
 "cells": [
  {
   "cell_type": "code",
   "execution_count": null,
   "id": "7c3cc72a",
   "metadata": {},
   "outputs": [
    {
     "name": "stdout",
     "output_type": "stream",
     "text": [
      "Archivo 'ordenes_de_compra_historico.csv' no encontrado. Se creará uno nuevo.\n",
      "Consultando la API para obtener las últimas Órdenes de Compra...\n",
      "Se obtuvieron 16797 registros de la API.\n",
      "Proceso de consolidación: 16797 registros -> 16797 registros únicos.\n",
      "\n",
      "✅ ¡Proceso completado! Archivo 'ordenes_de_compra_historico.csv' actualizado.\n",
      "Se agregaron 16797 Órdenes de Compra nuevas al histórico.\n"
     ]
    }
   ],
   "source": [
    "import requests\n",
    "import pandas as pd\n",
    "import os\n",
    "\n",
    "# --- CONFIGURACIÓN ---\n",
    "MI_TICKET = \"CAMBIAR_POR_TU_KEY_AQUI\"\n",
    "NOMBRE_ARCHIVO_OC = \"ordenes_de_compra_historico.csv\"\n",
    "\n",
    "def recolectar_y_actualizar_oc():\n",
    "    \"\"\"\n",
    "    Obtiene las Órdenes de Compra (OC) recientes, las combina con el\n",
    "    histórico existente, elimina duplicados y guarda el resultado.\n",
    "    \"\"\"\n",
    "    df_historico_oc = pd.DataFrame()\n",
    "\n",
    "    if os.path.exists(NOMBRE_ARCHIVO_OC):\n",
    "        print(f\"Encontrado archivo histórico '{NOMBRE_ARCHIVO_OC}'. Cargando datos...\")\n",
    "        df_historico_oc = pd.read_csv(NOMBRE_ARCHIVO_OC)\n",
    "        print(f\"Se cargaron {len(df_historico_oc)} Órdenes de Compra históricas.\")\n",
    "    else:\n",
    "        print(f\"Archivo '{NOMBRE_ARCHIVO_OC}' no encontrado. Se creará uno nuevo.\")\n",
    "\n",
    "    print(\"Consultando la API para obtener las últimas Órdenes de Compra...\")\n",
    "    url_api = f\"https://api.mercadopublico.cl/servicios/v1/publico/ordenesdecompra.json?ticket={MI_TICKET}\"\n",
    "    \n",
    "    try:\n",
    "        response = requests.get(url_api, timeout=60)\n",
    "        if response.status_code == 200:\n",
    "            datos_json = response.json()\n",
    "            listado_oc = datos_json.get('Listado', [])\n",
    "            \n",
    "            if not listado_oc:\n",
    "                print(\"API no retornó nuevas Órdenes de Compra en esta consulta. Finalizando.\")\n",
    "                return\n",
    "\n",
    "            df_nuevos = pd.DataFrame(listado_oc)\n",
    "            print(f\"Se obtuvieron {len(df_nuevos)} registros de la API.\")\n",
    "\n",
    "            df_consolidado = pd.concat([df_historico_oc, df_nuevos], ignore_index=True)\n",
    "            \n",
    "            registros_antes = len(df_consolidado)\n",
    "            \n",
    "            # === CORRECCIÓN APLICADA AQUÍ ===\n",
    "            # Se usa 'Codigo' como el identificador único para eliminar duplicados.\n",
    "            df_consolidado.drop_duplicates(subset=['Codigo'], keep='last', inplace=True)\n",
    "            \n",
    "            registros_despues = len(df_consolidado)\n",
    "            nuevos_registros = registros_despues - len(df_historico_oc)\n",
    "            \n",
    "            print(f\"Proceso de consolidación: {registros_antes} registros -> {registros_despues} registros únicos.\")\n",
    "\n",
    "            df_consolidado.to_csv(NOMBRE_ARCHIVO_OC, index=False, encoding='utf-8-sig')\n",
    "            print(f\"\\n✅ ¡Proceso completado! Archivo '{NOMBRE_ARCHIVO_OC}' actualizado.\")\n",
    "            if nuevos_registros > 0:\n",
    "                 print(f\"Se agregaron {nuevos_registros} Órdenes de Compra nuevas al histórico.\")\n",
    "            else:\n",
    "                 print(\"No se agregaron Órdenes de Compra nuevas en esta ejecución.\")\n",
    "\n",
    "        else:\n",
    "            print(f\"❌ Error al consultar la API. Código de estado: {response.status_code}\")\n",
    "\n",
    "    except requests.exceptions.RequestException as e:\n",
    "        print(f\"❌ Ocurrió un error de conexión: {e}\")\n",
    "\n",
    "# --- Ejecutar la función ---\n",
    "if __name__ == \"__main__\":\n",
    "    recolectar_y_actualizar_oc()"
   ]
  }
 ],
 "metadata": {
  "kernelspec": {
   "display_name": "Python 3",
   "language": "python",
   "name": "python3"
  },
  "language_info": {
   "codemirror_mode": {
    "name": "ipython",
    "version": 3
   },
   "file_extension": ".py",
   "mimetype": "text/x-python",
   "name": "python",
   "nbconvert_exporter": "python",
   "pygments_lexer": "ipython3",
   "version": "3.13.5"
  }
 },
 "nbformat": 4,
 "nbformat_minor": 5
}
